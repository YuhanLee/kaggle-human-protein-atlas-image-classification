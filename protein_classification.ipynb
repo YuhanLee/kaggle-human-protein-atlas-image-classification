{
  "nbformat": 4,
  "nbformat_minor": 0,
  "metadata": {
    "kernelspec": {
      "name": "python3",
      "display_name": "Python 3"
    },
    "language_info": {
      "codemirror_mode": {
        "name": "ipython",
        "version": 3
      },
      "file_extension": ".py",
      "mimetype": "text/x-python",
      "name": "python",
      "nbconvert_exporter": "python",
      "pygments_lexer": "ipython3",
      "version": "3.7.3"
    },
    "colab": {
      "name": "protein_classification.ipynb",
      "provenance": []
    },
    "accelerator": "GPU"
  },
  "cells": [
    {
      "cell_type": "markdown",
      "metadata": {
        "id": "65KuEOQYX0oI",
        "colab_type": "text"
      },
      "source": [
        "# Human Protein Atlas Image Classification\n",
        "\n",
        "\n",
        "Image classification of microscope slides based on mixed protein patterns.\n",
        "\n",
        "### Project Description\n",
        "The objective for this project is to determine the locations of protein organelles present in the microscope images. This breaks down into two parts: first, identifying the protein location (in general) from the image, and second,labelling each organelle within the protein.\n",
        "\n",
        "In particular we aim to build a model that can reliably make predictions even when the images contain a mixture of different cell types with different morphologies. \n",
        "\n",
        "### Task \n",
        "The problem is a a multi-label image classification task. Each image containing a mixture of different cell types must be predicted for each of the 27 labels. \n",
        "\n",
        "The training images that was provided by the kaggle competition includes a train_csv file that contains a list of image ids with the identified protein labels. \n",
        "\n",
        "\n",
        "### Requirements\n",
        "\n",
        "- keras\n",
        "- tensorflow\n",
        "- numpy\n",
        "- pydot\n",
        "- pandas\n",
        "- OpenCV (opencv-python)"
      ]
    },
    {
      "cell_type": "code",
      "metadata": {
        "id": "RjD80xLQX0oT",
        "colab_type": "code",
        "outputId": "ce65eeed-4dc2-495b-aedc-87bc428f6b1c",
        "colab": {
          "base_uri": "https://localhost:8080/",
          "height": 83
        }
      },
      "source": [
        "# libraries\n",
        "\n",
        "from keras.layers import Dense, Activation\n",
        "from keras.layers import Input, Flatten\n",
        "from keras.models import Sequential\n",
        "\n",
        "import cv2              # openCV image processing\n",
        "import numpy as np      # linear algebra\n",
        "import pandas as pd     # data processing\n",
        "import pydot            # graphing/visualization\n",
        "import matplotlib\n",
        "\n",
        "import os\n",
        "import gc\n",
        "import random\n",
        "import csv"
      ],
      "execution_count": 0,
      "outputs": [
        {
          "output_type": "stream",
          "text": [
            "Using TensorFlow backend.\n"
          ],
          "name": "stderr"
        },
        {
          "output_type": "display_data",
          "data": {
            "text/html": [
              "<p style=\"color: red;\">\n",
              "The default version of TensorFlow in Colab will soon switch to TensorFlow 2.x.<br>\n",
              "We recommend you <a href=\"https://www.tensorflow.org/guide/migrate\" target=\"_blank\">upgrade</a> now \n",
              "or ensure your notebook will continue to use TensorFlow 1.x via the <code>%tensorflow_version 1.x</code> magic:\n",
              "<a href=\"https://colab.research.google.com/notebooks/tensorflow_version.ipynb\" target=\"_blank\">more info</a>.</p>\n"
            ],
            "text/plain": [
              "<IPython.core.display.HTML object>"
            ]
          },
          "metadata": {
            "tags": []
          }
        }
      ]
    },
    {
      "cell_type": "markdown",
      "metadata": {
        "id": "g8IT9AOJX0os",
        "colab_type": "text"
      },
      "source": [
        "### Labels"
      ]
    },
    {
      "cell_type": "code",
      "metadata": {
        "id": "3xCNdgSFX0ow",
        "colab_type": "code",
        "colab": {}
      },
      "source": [
        "NUCLEOPLASM                   = 0\n",
        "NUCLEAR_MEMBRANE              = 1\n",
        "NUCLEOLI                      = 2\n",
        "NUCLEOLI_FIBRILLAR_CENTER     = 3\n",
        "NUCLEAR_SPECKLES              = 4\n",
        "NUCLEAR_BODIES                = 5\n",
        "ENDOPLASMIC_RETICULUM         = 6\n",
        "GOLGI_APPARATUS               = 7\n",
        "PEROXISOMES                   = 8\n",
        "ENDOSOMES                     = 9\n",
        "LYSOSOMES                     = 10\n",
        "INTERMEDIATE_FILAMENTS        = 11\n",
        "ACTIN_FILAMENTS               = 12\n",
        "FOCAL_ADHESION_SITES          = 13\n",
        "MICROTUBULES                  = 14\n",
        "MICROTUBULE_ENDS              = 15\n",
        "CYTOKINETIC_BRIDGE            = 16\n",
        "MITOTIC_SPINDLE               = 17\n",
        "MICROTUBULE_ORGANIZING_CENTER = 18\n",
        "CENTROSOME                    = 19\n",
        "LIPID_DROPLETS                = 20\n",
        "PLASMA_MEMBRANE               = 21\n",
        "CELL_JUNCTIONS                = 22\n",
        "MITOCHONDRIA                  = 23\n",
        "AGGRESOME                     = 24\n",
        "CYTOSOL                       = 25\n",
        "CYTOPLASMIC_BODIES            = 26\n",
        "RODS_AND_RINGS                = 27\n",
        "LEN_LABELS = 28"
      ],
      "execution_count": 0,
      "outputs": []
    },
    {
      "cell_type": "markdown",
      "metadata": {
        "id": "cy6hSk4LX0o7",
        "colab_type": "text"
      },
      "source": [
        "### Some Constants"
      ]
    },
    {
      "cell_type": "code",
      "metadata": {
        "id": "o8C04NDFX0pA",
        "colab_type": "code",
        "colab": {}
      },
      "source": [
        "LABELS_DIR = 'dataset'\n",
        "TRAIN_DIR = 'dataset/train'\n",
        "TEST_DIR = 'dataset/test'\n",
        "TRAIN_SUBSET_SIZE = 10 # Selection of images to train from (chosen at random, max size is 31072)"
      ],
      "execution_count": 0,
      "outputs": []
    },
    {
      "cell_type": "markdown",
      "metadata": {
        "id": "AvfKbFHBX0pK",
        "colab_type": "text"
      },
      "source": [
        "### Image Loading\n",
        "\n",
        "The first step is to take our dataset and prepare it so that it's ready for our model.\n",
        "\n",
        "Images are split into four filters/layers:\n",
        "- **green**: the protein of interest\n",
        "- **blue**: the nucleus\n",
        "- **red**: the microtubules\n",
        "- **yellow**: the endoplasmic reticulum\n",
        "\n",
        "For this project we will mostly be interested in the **green** filter, which will be used to predict the label, while the other filters will be used as references."
      ]
    },
    {
      "cell_type": "code",
      "metadata": {
        "id": "cq-iRTUlX0pN",
        "colab_type": "code",
        "outputId": "cdc15b8e-dcea-44e7-b952-b4120c8a1439",
        "colab": {
          "base_uri": "https://localhost:8080/",
          "height": 243
        }
      },
      "source": [
        "# Get images by layer\n",
        "\n",
        "# training set images\n",
        "train_green  = [(TRAIN_DIR+'/{}').format(i) for i in os.listdir(TRAIN_DIR) if 'green'  in i]\n",
        "\n",
        "# Select TRAIN_SUBSET_SIZE images from the training set at random\n",
        "random.shuffle(train_green)\n",
        "train_green = train_green[:TRAIN_SUBSET_SIZE]\n",
        "train_green_ids = [i[:-10].replace((TRAIN_DIR+'/'),'') \n",
        "                       for i in train_green] # remove '_green.png' and '_green.tif'\n",
        "\n",
        "# Retrieve the other three layers for our subset (NB: unsorted)\n",
        "train_blue =   [(TRAIN_DIR+'/{}').format(i) for i in os.listdir(TRAIN_DIR)\n",
        "                  if ((i[:-9] in train_green_ids) and ('blue' in i))]\n",
        "train_red =    [(TRAIN_DIR+'/{}').format(i) for i in os.listdir(TRAIN_DIR)\n",
        "                  if ((i[:-8] in train_green_ids) and ('red' in i))]\n",
        "train_yellow = [(TRAIN_DIR+'/{}').format(i) for i in os.listdir(TRAIN_DIR)\n",
        "                  if ((i[:-11] in train_green_ids) and ('yellow' in i))]\n",
        "\n",
        "# force garbage collection to make sure memory isn't wasted\n",
        "gc.collect()\n",
        "\n",
        "# test set images\n",
        "test_green  = [(TEST_DIR+'/{}').format(i) for i in os.listdir(TEST_DIR) if 'green'  in i]\n",
        "test_blue   = [(TEST_DIR+'/{}').format(i) for i in os.listdir(TEST_DIR) if 'blue'   in i]\n",
        "test_red    = [(TEST_DIR+'/{}').format(i) for i in os.listdir(TEST_DIR) if 'red'    in i]\n",
        "test_yellow = [(TEST_DIR+'/{}').format(i) for i in os.listdir(TEST_DIR) if 'yellow' in i]"
      ],
      "execution_count": 0,
      "outputs": [
        {
          "output_type": "error",
          "ename": "FileNotFoundError",
          "evalue": "ignored",
          "traceback": [
            "\u001b[0;31m---------------------------------------------------------------------------\u001b[0m",
            "\u001b[0;31mFileNotFoundError\u001b[0m                         Traceback (most recent call last)",
            "\u001b[0;32m<ipython-input-4-0f78753998b1>\u001b[0m in \u001b[0;36m<module>\u001b[0;34m()\u001b[0m\n\u001b[0;32m----> 1\u001b[0;31m \u001b[0mtrain_green\u001b[0m  \u001b[0;34m=\u001b[0m \u001b[0;34m[\u001b[0m\u001b[0;34m(\u001b[0m\u001b[0mTRAIN_DIR\u001b[0m\u001b[0;34m+\u001b[0m\u001b[0;34m'/{}'\u001b[0m\u001b[0;34m)\u001b[0m\u001b[0;34m.\u001b[0m\u001b[0mformat\u001b[0m\u001b[0;34m(\u001b[0m\u001b[0mi\u001b[0m\u001b[0;34m)\u001b[0m \u001b[0;32mfor\u001b[0m \u001b[0mi\u001b[0m \u001b[0;32min\u001b[0m \u001b[0mos\u001b[0m\u001b[0;34m.\u001b[0m\u001b[0mlistdir\u001b[0m\u001b[0;34m(\u001b[0m\u001b[0mTRAIN_DIR\u001b[0m\u001b[0;34m)\u001b[0m \u001b[0;32mif\u001b[0m \u001b[0;34m'green'\u001b[0m  \u001b[0;32min\u001b[0m \u001b[0mi\u001b[0m\u001b[0;34m]\u001b[0m\u001b[0;34m\u001b[0m\u001b[0;34m\u001b[0m\u001b[0m\n\u001b[0m\u001b[1;32m      2\u001b[0m \u001b[0;34m\u001b[0m\u001b[0m\n\u001b[1;32m      3\u001b[0m \u001b[0;31m# Select TRAIN_SUBSET_SIZE images from the training set at random\u001b[0m\u001b[0;34m\u001b[0m\u001b[0;34m\u001b[0m\u001b[0;34m\u001b[0m\u001b[0m\n\u001b[1;32m      4\u001b[0m \u001b[0mrandom\u001b[0m\u001b[0;34m.\u001b[0m\u001b[0mshuffle\u001b[0m\u001b[0;34m(\u001b[0m\u001b[0mtrain_green\u001b[0m\u001b[0;34m)\u001b[0m\u001b[0;34m\u001b[0m\u001b[0;34m\u001b[0m\u001b[0m\n\u001b[1;32m      5\u001b[0m \u001b[0mtrain_green\u001b[0m \u001b[0;34m=\u001b[0m \u001b[0mtrain_green\u001b[0m\u001b[0;34m[\u001b[0m\u001b[0;34m:\u001b[0m\u001b[0mTRAIN_SUBSET_SIZE\u001b[0m\u001b[0;34m]\u001b[0m\u001b[0;34m\u001b[0m\u001b[0;34m\u001b[0m\u001b[0m\n",
            "\u001b[0;31mFileNotFoundError\u001b[0m: [Errno 2] No such file or directory: 'dataset/train'"
          ]
        }
      ]
    },
    {
      "cell_type": "code",
      "metadata": {
        "id": "YhGwPb54X0pV",
        "colab_type": "code",
        "colab": {}
      },
      "source": [
        "# Testing the above by seeing if the IDs are the same\n",
        "\n",
        "train_green.sort()\n",
        "train_blue.sort()\n",
        "train_red.sort()\n",
        "train_yellow.sort()\n",
        "print(train_green, end='\\n\\n')\n",
        "print(train_blue, end='\\n\\n')\n",
        "print(train_red, end='\\n\\n')\n",
        "print(train_yellow, end='\\n\\n')"
      ],
      "execution_count": 0,
      "outputs": []
    },
    {
      "cell_type": "markdown",
      "metadata": {
        "id": "LXf6fgfVjvH0",
        "colab_type": "text"
      },
      "source": [
        "### Label Loading\n",
        "\n",
        "Loading the labels from *train.csv*"
      ]
    },
    {
      "cell_type": "code",
      "metadata": {
        "id": "dtNBfjMfjxV2",
        "colab_type": "code",
        "colab": {}
      },
      "source": [
        "training_labels = {} # dictionary with key = photo ID and entry = list of labels\n",
        "\n",
        "with open('dataset/train.csv') as label_file:\n",
        "  csvreader = csv.reader(label_file, delimiter=',', quotechar='|')\n",
        "  for row in csvreader:\n",
        "    if \"Id\" not in row[0]:\n",
        "        training_labels[row[0]] = row[1:][0].split(' ') # labels are separated by spaces"
      ],
      "execution_count": 0,
      "outputs": []
    },
    {
      "cell_type": "markdown",
      "metadata": {
        "id": "8TTKKnnkewLO",
        "colab_type": "text"
      },
      "source": [
        "### Image Preprocessing"
      ]
    },
    {
      "cell_type": "code",
      "metadata": {
        "id": "TDWbxfN4X0pd",
        "colab_type": "code",
        "colab": {}
      },
      "source": [
        "# Based on Keras and OpenCV docs\n",
        "\n",
        "def read_and_process(images_paths):\n",
        "  '''\n",
        "  returns a list of images and a list of label tuples\n",
        "  '''\n",
        "\n",
        "  images = [] # will be used by keras as x\n",
        "  labels = [] # will be used by keras as y\n",
        "\n",
        "  for img in image_paths:\n",
        "    # build image list\n",
        "    images.append(cv2.imread(img, cv2.IMREAD_GRAYSCALE)) # load images using cv2.imread()\n",
        "\n",
        "    # build labels/target/tag list\n",
        "    # Check labels at each step and build labels list accordingly\n",
        "    # --> order is important"
      ],
      "execution_count": 0,
      "outputs": []
    },
    {
      "cell_type": "code",
      "metadata": {
        "id": "i9p-FWpKvXFJ",
        "colab_type": "code",
        "colab": {}
      },
      "source": [
        "read_and_process(train_green)\n",
        "read_and_process(test_green)"
      ],
      "execution_count": 0,
      "outputs": []
    },
    {
      "cell_type": "markdown",
      "metadata": {
        "id": "Nhr-zmArr_Ag",
        "colab_type": "text"
      },
      "source": [
        "### One Hot Encoding"
      ]
    },
    {
      "cell_type": "code",
      "metadata": {
        "id": "kV7Weri7sRWK",
        "colab_type": "code",
        "colab": {}
      },
      "source": [
        "def one_hot_encode(train_tags):\n",
        "  ''' Creates a one hot encoded dictionary of all labels for each pic'''\n",
        "  encoded = dic()\n",
        "  for id in train_tags.getKeys():\n",
        "\t  # create empty vector\n",
        "\t  encoding = zeros(len(train_tags), dtype='uint8')\n",
        "\t  # mark 1 for each tag in the vector\n",
        "\t  for tag in train_tags.getValue():\n",
        "\t\t  encoding[int(tag)] = 1\n",
        "    encoded[id] = encoding\n",
        "\treturn encoded"
      ],
      "execution_count": 0,
      "outputs": []
    }
  ]
}