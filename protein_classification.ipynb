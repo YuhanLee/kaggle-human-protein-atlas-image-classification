{
  "nbformat": 4,
  "nbformat_minor": 0,
  "metadata": {
    "kernelspec": {
      "name": "python3",
      "display_name": "Python 3"
    },
    "language_info": {
      "codemirror_mode": {
        "name": "ipython",
        "version": 3
      },
      "file_extension": ".py",
      "mimetype": "text/x-python",
      "name": "python",
      "nbconvert_exporter": "python",
      "pygments_lexer": "ipython3",
      "version": "3.7.3"
    },
    "colab": {
      "name": "protein_classification.ipynb",
      "provenance": []
    },
    "accelerator": "GPU"
  },
  "cells": [
    {
      "cell_type": "markdown",
      "metadata": {
        "id": "65KuEOQYX0oI",
        "colab_type": "text"
      },
      "source": [
        "# Human Protein Atlas Image Classification\n",
        "\n",
        "\n",
        "Image classification of microscope slides based on mixed protein patterns.\n",
        "\n",
        "### Requirements\n",
        "\n",
        "- keras\n",
        "- tensorflow\n",
        "- numpy\n",
        "- pydot\n",
        "- pandas\n",
        "- OpenCV (opencv-python)"
      ]
    },
    {
      "cell_type": "code",
      "metadata": {
        "id": "RjD80xLQX0oT",
        "colab_type": "code",
        "colab": {},
        "outputId": "3128c8d1-330c-4bfa-cba0-4cab3167edd6"
      },
      "source": [
        "# libraries\n",
        "\n",
        "from keras.layers import Dense, Activation\n",
        "from keras.layers import Input, Flatten\n",
        "from keras.models import Sequential\n",
        "\n",
        "import cv2              # openCV image processing\n",
        "import numpy as np      # linear algebra\n",
        "import pandas as pd     # data processing\n",
        "import pydot            # graphing/visualization\n",
        "\n",
        "import os\n",
        "import gc\n",
        "import random"
      ],
      "execution_count": 0,
      "outputs": [
        {
          "output_type": "stream",
          "text": [
            "Using TensorFlow backend.\n"
          ],
          "name": "stderr"
        }
      ]
    },
    {
      "cell_type": "markdown",
      "metadata": {
        "id": "g8IT9AOJX0os",
        "colab_type": "text"
      },
      "source": [
        "### Labels"
      ]
    },
    {
      "cell_type": "code",
      "metadata": {
        "id": "3xCNdgSFX0ow",
        "colab_type": "code",
        "colab": {}
      },
      "source": [
        "NUCLEOPLASM                   = 0\n",
        "NUCLEAR_MEMBRANE              = 1\n",
        "NUCLEOLI                      = 2\n",
        "NUCLEOLI_FIBRILLAR_CENTER     = 3\n",
        "NUCLEAR_SPECKLES              = 4\n",
        "NUCLEAR_BODIES                = 5\n",
        "ENDOPLASMIC_RETICULUM         = 6\n",
        "GOLGI_APPARATUS               = 7\n",
        "PEROXISOMES                   = 8\n",
        "ENDOSOMES                     = 9\n",
        "LYSOSOMES                     = 10\n",
        "INTERMEDIATE_FILAMENTS        = 11\n",
        "ACTIN_FILAMENTS               = 12\n",
        "FOCAL_ADHESION_SITES          = 13\n",
        "MICROTUBULES                  = 14\n",
        "MICROTUBULE_ENDS              = 15\n",
        "CYTOKINETIC_BRIDGE            = 16\n",
        "MITOTIC_SPINDLE               = 17\n",
        "MICROTUBULE_ORGANIZING_CENTER = 18\n",
        "CENTROSOME                    = 19\n",
        "LIPID_DROPLETS                = 20\n",
        "PLASMA_MEMBRANE               = 21\n",
        "CELL_JUNCTIONS                = 22\n",
        "MITOCHONDRIA                  = 23\n",
        "AGGRESOME                     = 24\n",
        "CYTOSOL                       = 25\n",
        "CYTOPLASMIC_BODIES            = 26\n",
        "RODS_AND_RINGS                = 27"
      ],
      "execution_count": 0,
      "outputs": []
    },
    {
      "cell_type": "markdown",
      "metadata": {
        "id": "cy6hSk4LX0o7",
        "colab_type": "text"
      },
      "source": [
        "### Some Constants"
      ]
    },
    {
      "cell_type": "code",
      "metadata": {
        "id": "o8C04NDFX0pA",
        "colab_type": "code",
        "colab": {}
      },
      "source": [
        "LABELS_DIR = 'dataset'\n",
        "TRAIN_DIR = 'dataset/train'\n",
        "TEST_DIR = 'dataset/test'\n",
        "TRAIN_SUBSET_SIZE = 10 # Selection of images to train from (chosen at random, max size is 31072)"
      ],
      "execution_count": 0,
      "outputs": []
    },
    {
      "cell_type": "markdown",
      "metadata": {
        "id": "AvfKbFHBX0pK",
        "colab_type": "text"
      },
      "source": [
        "### Image Preprocessing\n",
        "\n",
        "The first step is to take our dataset and prepare it so that it's ready for our model.\n",
        "\n",
        "Images are split into four filters/layers:\n",
        "- **green**: the protein of interest\n",
        "- **blue**: the nucleus\n",
        "- **red**: the microtubules\n",
        "- **yellow**: the endoplasmic reticulum\n",
        "\n",
        "For this project we will mostly be interested in the **green** filter, which will be used to predict the label, while the other filters will be used as references."
      ]
    },
    {
      "cell_type": "code",
      "metadata": {
        "id": "cq-iRTUlX0pN",
        "colab_type": "code",
        "colab": {}
      },
      "source": [
        "# Get images by layer\n",
        "\n",
        "# training set images\n",
        "train_green  = [(TRAIN_DIR+'/{}').format(i) for i in os.listdir(TRAIN_DIR) if 'green'  in i]\n",
        "\n",
        "# Select TRAIN_SUBSET_SIZE images from the training set at random\n",
        "random.shuffle(train_green)\n",
        "train_green = train_green[:TRAIN_SUBSET_SIZE]\n",
        "train_green_ids = [i[:-10].replace((TRAIN_DIR+'/'),'') \n",
        "                       for i in train_green] # remove '_green.png' and '_green.tif'\n",
        "\n",
        "# Retrieve the other three layers for our subset (NB: unsorted)\n",
        "train_blue =   [(TRAIN_DIR+'/{}').format(i) for i in os.listdir(TRAIN_DIR)\n",
        "                  if ((i[:-9] in train_green_ids) and ('blue' in i))]\n",
        "train_red =    [(TRAIN_DIR+'/{}').format(i) for i in os.listdir(TRAIN_DIR)\n",
        "                  if ((i[:-8] in train_green_ids) and ('red' in i))]\n",
        "train_yellow = [(TRAIN_DIR+'/{}').format(i) for i in os.listdir(TRAIN_DIR)\n",
        "                  if ((i[:-11] in train_green_ids) and ('yellow' in i))]\n",
        "\n",
        "# force garbage collection to make sure memory isn't wasted\n",
        "gc.collect()\n",
        "\n",
        "# test set images\n",
        "test_green  = [(TEST_DIR+'/{}').format(i) for i in os.listdir(TEST_DIR) if 'green'  in i]\n",
        "test_blue   = [(TEST_DIR+'/{}').format(i) for i in os.listdir(TEST_DIR) if 'blue'   in i]\n",
        "test_red    = [(TEST_DIR+'/{}').format(i) for i in os.listdir(TEST_DIR) if 'red'    in i]\n",
        "test_yellow = [(TEST_DIR+'/{}').format(i) for i in os.listdir(TEST_DIR) if 'yellow' in i]"
      ],
      "execution_count": 0,
      "outputs": []
    },
    {
      "cell_type": "code",
      "metadata": {
        "id": "YhGwPb54X0pV",
        "colab_type": "code",
        "colab": {},
        "outputId": "76732da9-c025-444c-88ca-37c30fbd2a6b"
      },
      "source": [
        "# Testing the above by seeing if the IDs are the same\n",
        "\n",
        "train_green.sort()\n",
        "train_blue.sort()\n",
        "train_red.sort()\n",
        "train_yellow.sort()\n",
        "print(train_green, end='\\n\\n')\n",
        "print(train_blue, end='\\n\\n')\n",
        "print(train_red, end='\\n\\n')\n",
        "print(train_yellow, end='\\n\\n')"
      ],
      "execution_count": 0,
      "outputs": [
        {
          "output_type": "stream",
          "text": [
            "['dataset/train/2da04718-bba0-11e8-b2b9-ac1f6b6435d0_green.png', 'dataset/train/37e8ba80-bba4-11e8-b2b9-ac1f6b6435d0_green.png', 'dataset/train/57996924-bbc7-11e8-b2bc-ac1f6b6435d0_green.png', 'dataset/train/5917a040-bbae-11e8-b2ba-ac1f6b6435d0_green.png', 'dataset/train/67322146-bba9-11e8-b2ba-ac1f6b6435d0_green.png', 'dataset/train/8c85ea40-bbae-11e8-b2ba-ac1f6b6435d0_green.png', 'dataset/train/bde0f150-bbba-11e8-b2ba-ac1f6b6435d0_green.png', 'dataset/train/c4959e82-bbac-11e8-b2ba-ac1f6b6435d0_green.png', 'dataset/train/ccf6cf7e-bbac-11e8-b2ba-ac1f6b6435d0_green.png', 'dataset/train/f1455a1a-bbc2-11e8-b2bc-ac1f6b6435d0_green.png']\n",
            "\n",
            "['dataset/train/2da04718-bba0-11e8-b2b9-ac1f6b6435d0_blue.png', 'dataset/train/37e8ba80-bba4-11e8-b2b9-ac1f6b6435d0_blue.png', 'dataset/train/57996924-bbc7-11e8-b2bc-ac1f6b6435d0_blue.png', 'dataset/train/5917a040-bbae-11e8-b2ba-ac1f6b6435d0_blue.png', 'dataset/train/67322146-bba9-11e8-b2ba-ac1f6b6435d0_blue.png', 'dataset/train/8c85ea40-bbae-11e8-b2ba-ac1f6b6435d0_blue.png', 'dataset/train/bde0f150-bbba-11e8-b2ba-ac1f6b6435d0_blue.png', 'dataset/train/c4959e82-bbac-11e8-b2ba-ac1f6b6435d0_blue.png', 'dataset/train/ccf6cf7e-bbac-11e8-b2ba-ac1f6b6435d0_blue.png', 'dataset/train/f1455a1a-bbc2-11e8-b2bc-ac1f6b6435d0_blue.png']\n",
            "\n",
            "['dataset/train/2da04718-bba0-11e8-b2b9-ac1f6b6435d0_red.png', 'dataset/train/37e8ba80-bba4-11e8-b2b9-ac1f6b6435d0_red.png', 'dataset/train/57996924-bbc7-11e8-b2bc-ac1f6b6435d0_red.png', 'dataset/train/5917a040-bbae-11e8-b2ba-ac1f6b6435d0_red.png', 'dataset/train/67322146-bba9-11e8-b2ba-ac1f6b6435d0_red.png', 'dataset/train/8c85ea40-bbae-11e8-b2ba-ac1f6b6435d0_red.png', 'dataset/train/bde0f150-bbba-11e8-b2ba-ac1f6b6435d0_red.png', 'dataset/train/c4959e82-bbac-11e8-b2ba-ac1f6b6435d0_red.png', 'dataset/train/ccf6cf7e-bbac-11e8-b2ba-ac1f6b6435d0_red.png', 'dataset/train/f1455a1a-bbc2-11e8-b2bc-ac1f6b6435d0_red.png']\n",
            "\n",
            "['dataset/train/2da04718-bba0-11e8-b2b9-ac1f6b6435d0_yellow.png', 'dataset/train/37e8ba80-bba4-11e8-b2b9-ac1f6b6435d0_yellow.png', 'dataset/train/57996924-bbc7-11e8-b2bc-ac1f6b6435d0_yellow.png', 'dataset/train/5917a040-bbae-11e8-b2ba-ac1f6b6435d0_yellow.png', 'dataset/train/67322146-bba9-11e8-b2ba-ac1f6b6435d0_yellow.png', 'dataset/train/8c85ea40-bbae-11e8-b2ba-ac1f6b6435d0_yellow.png', 'dataset/train/bde0f150-bbba-11e8-b2ba-ac1f6b6435d0_yellow.png', 'dataset/train/c4959e82-bbac-11e8-b2ba-ac1f6b6435d0_yellow.png', 'dataset/train/ccf6cf7e-bbac-11e8-b2ba-ac1f6b6435d0_yellow.png', 'dataset/train/f1455a1a-bbc2-11e8-b2bc-ac1f6b6435d0_yellow.png']\n",
            "\n"
          ],
          "name": "stdout"
        }
      ]
    },
    {
      "cell_type": "code",
      "metadata": {
        "id": "TDWbxfN4X0pd",
        "colab_type": "code",
        "colab": {}
      },
      "source": [
        ""
      ],
      "execution_count": 0,
      "outputs": []
    }
  ]
}